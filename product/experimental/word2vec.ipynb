{
 "cells": [
  {
   "cell_type": "code",
   "execution_count": 15,
   "metadata": {},
   "outputs": [],
   "source": [
    "import pandas as pd \n",
    "import sklearn \n",
    "import numpy as np \n",
    "import gensim \n",
    "import matplotlib as plt"
   ]
  },
  {
   "cell_type": "markdown",
   "metadata": {},
   "source": [
    "## Load data file "
   ]
  },
  {
   "cell_type": "code",
   "execution_count": 2,
   "metadata": {},
   "outputs": [
    {
     "name": "stdout",
     "output_type": "stream",
     "text": [
      "<_io.TextIOWrapper name='../../data/official/unspsc_71k/unspsc_71k_2016.csv' mode='r' encoding='cp1252'>\n"
     ]
    }
   ],
   "source": [
    "fn = '../../data/official/unspsc_71k/unspsc_71k_2016.csv'\n",
    "with open(fn) as f:\n",
    "    print(f)"
   ]
  },
  {
   "cell_type": "code",
   "execution_count": 3,
   "metadata": {},
   "outputs": [],
   "source": [
    "df = pd.read_csv(fn, encoding='UTF-8') "
   ]
  },
  {
   "cell_type": "code",
   "execution_count": 4,
   "metadata": {},
   "outputs": [
    {
     "data": {
      "text/html": [
       "<div>\n",
       "<style scoped>\n",
       "    .dataframe tbody tr th:only-of-type {\n",
       "        vertical-align: middle;\n",
       "    }\n",
       "\n",
       "    .dataframe tbody tr th {\n",
       "        vertical-align: top;\n",
       "    }\n",
       "\n",
       "    .dataframe thead th {\n",
       "        text-align: right;\n",
       "    }\n",
       "</style>\n",
       "<table border=\"1\" class=\"dataframe\">\n",
       "  <thead>\n",
       "    <tr style=\"text-align: right;\">\n",
       "      <th></th>\n",
       "      <th>Segment</th>\n",
       "      <th>Segment Name</th>\n",
       "      <th>Family</th>\n",
       "      <th>Family Name</th>\n",
       "      <th>Class</th>\n",
       "      <th>Class Name</th>\n",
       "      <th>Commodity</th>\n",
       "      <th>Commodity Name</th>\n",
       "    </tr>\n",
       "  </thead>\n",
       "  <tbody>\n",
       "    <tr>\n",
       "      <th>0</th>\n",
       "      <td>10000000</td>\n",
       "      <td>Live Plant and Animal Material and Accessories...</td>\n",
       "      <td>10100000</td>\n",
       "      <td>Live animals</td>\n",
       "      <td>10101500</td>\n",
       "      <td>Livestock</td>\n",
       "      <td>10101501</td>\n",
       "      <td>Cats</td>\n",
       "    </tr>\n",
       "    <tr>\n",
       "      <th>1</th>\n",
       "      <td>10000000</td>\n",
       "      <td>Live Plant and Animal Material and Accessories...</td>\n",
       "      <td>10100000</td>\n",
       "      <td>Live animals</td>\n",
       "      <td>10101500</td>\n",
       "      <td>Livestock</td>\n",
       "      <td>10101502</td>\n",
       "      <td>Dogs</td>\n",
       "    </tr>\n",
       "    <tr>\n",
       "      <th>2</th>\n",
       "      <td>10000000</td>\n",
       "      <td>Live Plant and Animal Material and Accessories...</td>\n",
       "      <td>10100000</td>\n",
       "      <td>Live animals</td>\n",
       "      <td>10101500</td>\n",
       "      <td>Livestock</td>\n",
       "      <td>10101504</td>\n",
       "      <td>Mink</td>\n",
       "    </tr>\n",
       "    <tr>\n",
       "      <th>3</th>\n",
       "      <td>10000000</td>\n",
       "      <td>Live Plant and Animal Material and Accessories...</td>\n",
       "      <td>10100000</td>\n",
       "      <td>Live animals</td>\n",
       "      <td>10101500</td>\n",
       "      <td>Livestock</td>\n",
       "      <td>10101505</td>\n",
       "      <td>Rats</td>\n",
       "    </tr>\n",
       "  </tbody>\n",
       "</table>\n",
       "</div>"
      ],
      "text/plain": [
       "    Segment                                       Segment Name    Family  \\\n",
       "0  10000000  Live Plant and Animal Material and Accessories...  10100000   \n",
       "1  10000000  Live Plant and Animal Material and Accessories...  10100000   \n",
       "2  10000000  Live Plant and Animal Material and Accessories...  10100000   \n",
       "3  10000000  Live Plant and Animal Material and Accessories...  10100000   \n",
       "\n",
       "    Family Name     Class Class Name  Commodity Commodity Name  \n",
       "0  Live animals  10101500  Livestock   10101501           Cats  \n",
       "1  Live animals  10101500  Livestock   10101502           Dogs  \n",
       "2  Live animals  10101500  Livestock   10101504           Mink  \n",
       "3  Live animals  10101500  Livestock   10101505           Rats  "
      ]
     },
     "execution_count": 4,
     "metadata": {},
     "output_type": "execute_result"
    }
   ],
   "source": [
    "df.head(4)"
   ]
  },
  {
   "cell_type": "code",
   "execution_count": 20,
   "metadata": {},
   "outputs": [
    {
     "data": {
      "text/plain": [
       "Food Beverage and Tobacco Products                                                                                                 31672\n",
       "Drugs and Pharmaceutical Products                                                                                                   8358\n",
       "Live Plant and Animal Material and Accessories and Supplies                                                                         7637\n",
       "Manufacturing Components and Supplies                                                                                               2756\n",
       "Medical Equipment and Accessories and Supplies                                                                                      2587\n",
       "Laboratory and Measuring and Observing and Testing Equipment                                                                        1966\n",
       "Musical Instruments and Games and Toys and Arts and Crafts and Educational Equipment and Materials and Accessories and Supplies     1299\n",
       "Distribution and Conditioning Systems and Equipment and Components                                                                   970\n",
       "Structures and Building and Construction and Manufacturing Components and Supplies                                                   867\n",
       "Commercial and Military and Private Vehicles and their Accessories and Components                                                    794\n",
       "Industrial Manufacturing and Processing Machinery and Accessories                                                                    762\n",
       "Mining and Well Drilling Machinery and Accessories                                                                                   683\n",
       "Information Technology Broadcasting and Telecommunications                                                                           672\n",
       "Tools and General Machinery                                                                                                          612\n",
       "Electrical Systems and Lighting and Components and Accessories and Supplies                                                          597\n",
       "Power Generation and Distribution Machinery and Accessories                                                                          531\n",
       "Mining and oil and gas services                                                                                                      488\n",
       "Building and Facility Construction and Maintenance Services                                                                          433\n",
       "Chemicals including Bio Chemicals and Gas Materials                                                                                  430\n",
       "Mineral and Textile and Inedible Plant and Animal Materials                                                                          404\n",
       "Defense and Law Enforcement and Security and Safety Equipment and Supplies                                                           400\n",
       "Office Equipment and Accessories and Supplies                                                                                        374\n",
       "Domestic Appliances and Supplies and Consumer Electronic Products                                                                    353\n",
       "Material Handling and Conditioning and Storage Machinery and their Accessories and Supplies                                          351\n",
       "Sports and Recreational Equipment and Supplies and Accessories                                                                       308\n",
       "Electronic Components and Supplies                                                                                                   289\n",
       "Industrial Production and Manufacturing Services                                                                                     283\n",
       "Apparel and Luggage and Personal Care Products                                                                                       270\n",
       "Engineering and Research and Technology Based Services                                                                               262\n",
       "Printing and Photographic and Audio and Visual Equipment and Supplies                                                                257\n",
       "Politics and Civic Affairs Services                                                                                                  250\n",
       "Farming and Fishing and Forestry and Wildlife Contracting Services                                                                   248\n",
       "Management and Business Professionals and Administrative Services                                                                    247\n",
       "Furniture and Furnishings                                                                                                            244\n",
       "Land and Buildings and Structures and Thoroughfares                                                                                  230\n",
       "Cleaning Equipment and Supplies                                                                                                      223\n",
       "Resin and Rosin and Rubber and Foam and Film and Elastomeric Materials                                                               185\n",
       "Editorial and Design and Graphic and Fine Art Services                                                                               182\n",
       "Service Industry Machinery and Equipment and Supplies                                                                                180\n",
       "Healthcare Services                                                                                                                  170\n",
       "Transportation and Storage and Mail Services                                                                                         146\n",
       "Paper Materials and Products                                                                                                         142\n",
       "Published Products                                                                                                                   131\n",
       "Farming and Fishing and Forestry and Wildlife Machinery and Accessories                                                              118\n",
       "Financial Instruments, Products, Contracts and Agreements                                                                            106\n",
       "Education and Training Services                                                                                                      104\n",
       "National Defense and Public Order and Security and Safety Services                                                                   104\n",
       "Organizations and Clubs                                                                                                              104\n",
       "Building and Construction Machinery and Accessories                                                                                  102\n",
       "Financial and Insurance Services                                                                                                      96\n",
       "Public Utilities and Public Sector Related Services                                                                                   95\n",
       "Fuels and Fuel Additives and Lubricants and Anti corrosive Materials                                                                  92\n",
       "Environmental Services                                                                                                                86\n",
       "Travel and Food and Lodging and Entertainment Services                                                                                79\n",
       "Industrial Cleaning Services                                                                                                          78\n",
       "Timepieces and Jewelry and Gemstone Products                                                                                          57\n",
       "Personal and Domestic Services                                                                                                        38\n",
       "Name: Segment Name, dtype: int64"
      ]
     },
     "execution_count": 20,
     "metadata": {},
     "output_type": "execute_result"
    }
   ],
   "source": [
    "df['Segment Name'].value_counts()"
   ]
  },
  {
   "cell_type": "code",
   "execution_count": 21,
   "metadata": {},
   "outputs": [],
   "source": [
    "sent = [row.split(',') for row in df['Segment Name']]"
   ]
  },
  {
   "cell_type": "code",
   "execution_count": 26,
   "metadata": {},
   "outputs": [],
   "source": [
    "import multiprocessing\n",
    "\n",
    "from gensim.models import Word2Vec\n",
    "model = Word2Vec(sent, min_count=1,size= 50,workers=3, window =3, sg = 1)"
   ]
  },
  {
   "cell_type": "code",
   "execution_count": 29,
   "metadata": {},
   "outputs": [
    {
     "name": "stderr",
     "output_type": "stream",
     "text": [
      "<ipython-input-29-6aa9072a7c84>:1: DeprecationWarning: Call to deprecated `__getitem__` (Method will be removed in 4.0.0, use self.wv.__getitem__() instead).\n",
      "  model['Personal and Domestic Services']\n"
     ]
    },
    {
     "data": {
      "text/plain": [
       "array([-9.1428135e-04, -3.0354557e-03, -9.4457306e-03, -5.2809361e-03,\n",
       "       -4.6005766e-03,  9.6925711e-03,  1.4962784e-03,  3.8968234e-03,\n",
       "       -4.3782708e-04,  5.6363707e-03,  9.1176229e-03,  8.3082402e-03,\n",
       "        6.9864336e-03, -2.8658179e-03,  4.4441661e-03, -1.9400058e-03,\n",
       "       -1.5341591e-03, -2.0717259e-03,  9.0861898e-03,  5.5703302e-03,\n",
       "        3.0542461e-03, -6.8173506e-03,  1.5407938e-03, -2.2472674e-03,\n",
       "        2.0965475e-03,  5.1205265e-03,  6.1712414e-04,  4.4993293e-03,\n",
       "       -3.8440636e-04, -1.4780012e-03, -8.9372117e-03,  3.6323441e-03,\n",
       "        7.0294524e-03, -8.9326240e-03, -2.6638538e-03,  3.3227818e-03,\n",
       "       -6.1062658e-03,  7.9506142e-03, -1.1650551e-03, -5.0413199e-03,\n",
       "        3.1561414e-03,  9.2836814e-03, -4.1916636e-03,  9.3970848e-03,\n",
       "        4.1012536e-03, -1.4174677e-03,  3.3509295e-05, -7.5764288e-03,\n",
       "        9.0465015e-03, -6.8309214e-03], dtype=float32)"
      ]
     },
     "execution_count": 29,
     "metadata": {},
     "output_type": "execute_result"
    }
   ],
   "source": [
    "model['Personal and Domestic Services']"
   ]
  },
  {
   "cell_type": "code",
   "execution_count": null,
   "metadata": {},
   "outputs": [],
   "source": []
  }
 ],
 "metadata": {
  "kernelspec": {
   "display_name": "Python 3",
   "language": "python",
   "name": "python3"
  },
  "language_info": {
   "codemirror_mode": {
    "name": "ipython",
    "version": 3
   },
   "file_extension": ".py",
   "mimetype": "text/x-python",
   "name": "python",
   "nbconvert_exporter": "python",
   "pygments_lexer": "ipython3",
   "version": "3.8.3"
  }
 },
 "nbformat": 4,
 "nbformat_minor": 4
}
