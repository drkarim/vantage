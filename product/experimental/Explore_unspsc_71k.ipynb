{
 "cells": [
  {
   "cell_type": "code",
   "execution_count": 1,
   "metadata": {
    "collapsed": true
   },
   "outputs": [],
   "source": [
    "import pandas as pd \n",
    "import sklearn \n",
    "import numpy as np \n"
   ]
  },
  {
   "cell_type": "code",
   "execution_count": 7,
   "metadata": {
    "collapsed": false
   },
   "outputs": [
    {
     "name": "stdout",
     "output_type": "stream",
     "text": [
      "<_io.TextIOWrapper name='../../data/official/unspsc_71k/unspsc_71k_2016.csv' mode='r' encoding='UTF-8'>\n"
     ]
    }
   ],
   "source": [
    "fn = '../../data/official/unspsc_71k/unspsc_71k_2016.csv'\n",
    "with open(fn) as f:\n",
    "    print(f)"
   ]
  },
  {
   "cell_type": "code",
   "execution_count": 8,
   "metadata": {
    "collapsed": false
   },
   "outputs": [],
   "source": [
    "df = pd.read_csv(fn, encoding='UTF-8') "
   ]
  },
  {
   "cell_type": "code",
   "execution_count": 10,
   "metadata": {
    "collapsed": false
   },
   "outputs": [
    {
     "data": {
      "text/html": [
       "<div>\n",
       "<style scoped>\n",
       "    .dataframe tbody tr th:only-of-type {\n",
       "        vertical-align: middle;\n",
       "    }\n",
       "\n",
       "    .dataframe tbody tr th {\n",
       "        vertical-align: top;\n",
       "    }\n",
       "\n",
       "    .dataframe thead th {\n",
       "        text-align: right;\n",
       "    }\n",
       "</style>\n",
       "<table border=\"1\" class=\"dataframe\">\n",
       "  <thead>\n",
       "    <tr style=\"text-align: right;\">\n",
       "      <th></th>\n",
       "      <th>Segment</th>\n",
       "      <th>Segment Name</th>\n",
       "      <th>Family</th>\n",
       "      <th>Family Name</th>\n",
       "      <th>Class</th>\n",
       "      <th>Class Name</th>\n",
       "      <th>Commodity</th>\n",
       "      <th>Commodity Name</th>\n",
       "    </tr>\n",
       "  </thead>\n",
       "  <tbody>\n",
       "    <tr>\n",
       "      <th>0</th>\n",
       "      <td>10000000</td>\n",
       "      <td>Live Plant and Animal Material and Accessories...</td>\n",
       "      <td>10100000</td>\n",
       "      <td>Live animals</td>\n",
       "      <td>10101500</td>\n",
       "      <td>Livestock</td>\n",
       "      <td>10101501</td>\n",
       "      <td>Cats</td>\n",
       "    </tr>\n",
       "    <tr>\n",
       "      <th>1</th>\n",
       "      <td>10000000</td>\n",
       "      <td>Live Plant and Animal Material and Accessories...</td>\n",
       "      <td>10100000</td>\n",
       "      <td>Live animals</td>\n",
       "      <td>10101500</td>\n",
       "      <td>Livestock</td>\n",
       "      <td>10101502</td>\n",
       "      <td>Dogs</td>\n",
       "    </tr>\n",
       "    <tr>\n",
       "      <th>2</th>\n",
       "      <td>10000000</td>\n",
       "      <td>Live Plant and Animal Material and Accessories...</td>\n",
       "      <td>10100000</td>\n",
       "      <td>Live animals</td>\n",
       "      <td>10101500</td>\n",
       "      <td>Livestock</td>\n",
       "      <td>10101504</td>\n",
       "      <td>Mink</td>\n",
       "    </tr>\n",
       "    <tr>\n",
       "      <th>3</th>\n",
       "      <td>10000000</td>\n",
       "      <td>Live Plant and Animal Material and Accessories...</td>\n",
       "      <td>10100000</td>\n",
       "      <td>Live animals</td>\n",
       "      <td>10101500</td>\n",
       "      <td>Livestock</td>\n",
       "      <td>10101505</td>\n",
       "      <td>Rats</td>\n",
       "    </tr>\n",
       "  </tbody>\n",
       "</table>\n",
       "</div>"
      ],
      "text/plain": [
       "    Segment                                       Segment Name    Family  \\\n",
       "0  10000000  Live Plant and Animal Material and Accessories...  10100000   \n",
       "1  10000000  Live Plant and Animal Material and Accessories...  10100000   \n",
       "2  10000000  Live Plant and Animal Material and Accessories...  10100000   \n",
       "3  10000000  Live Plant and Animal Material and Accessories...  10100000   \n",
       "\n",
       "    Family Name     Class Class Name  Commodity Commodity Name  \n",
       "0  Live animals  10101500  Livestock   10101501           Cats  \n",
       "1  Live animals  10101500  Livestock   10101502           Dogs  \n",
       "2  Live animals  10101500  Livestock   10101504           Mink  \n",
       "3  Live animals  10101500  Livestock   10101505           Rats  "
      ]
     },
     "execution_count": 10,
     "metadata": {},
     "output_type": "execute_result"
    }
   ],
   "source": [
    "df.head(4)"
   ]
  },
  {
   "cell_type": "code",
   "execution_count": 11,
   "metadata": {
    "collapsed": false
   },
   "outputs": [
    {
     "data": {
      "text/html": [
       "<div>\n",
       "<style scoped>\n",
       "    .dataframe tbody tr th:only-of-type {\n",
       "        vertical-align: middle;\n",
       "    }\n",
       "\n",
       "    .dataframe tbody tr th {\n",
       "        vertical-align: top;\n",
       "    }\n",
       "\n",
       "    .dataframe thead th {\n",
       "        text-align: right;\n",
       "    }\n",
       "</style>\n",
       "<table border=\"1\" class=\"dataframe\">\n",
       "  <thead>\n",
       "    <tr style=\"text-align: right;\">\n",
       "      <th></th>\n",
       "      <th>Segment</th>\n",
       "      <th>Segment Name</th>\n",
       "      <th>Family</th>\n",
       "      <th>Family Name</th>\n",
       "      <th>Class</th>\n",
       "      <th>Class Name</th>\n",
       "      <th>Commodity</th>\n",
       "      <th>Commodity Name</th>\n",
       "    </tr>\n",
       "  </thead>\n",
       "  <tbody>\n",
       "    <tr>\n",
       "      <th>71498</th>\n",
       "      <td>95000000</td>\n",
       "      <td>Land and Buildings and Structures and Thorough...</td>\n",
       "      <td>95140000</td>\n",
       "      <td>Prefabricated buildings and structures</td>\n",
       "      <td>95141900</td>\n",
       "      <td>Prefabricated medical buildings and structures</td>\n",
       "      <td>95141901</td>\n",
       "      <td>Medical unit</td>\n",
       "    </tr>\n",
       "    <tr>\n",
       "      <th>71499</th>\n",
       "      <td>95000000</td>\n",
       "      <td>Land and Buildings and Structures and Thorough...</td>\n",
       "      <td>95140000</td>\n",
       "      <td>Prefabricated buildings and structures</td>\n",
       "      <td>95141900</td>\n",
       "      <td>Prefabricated medical buildings and structures</td>\n",
       "      <td>95141902</td>\n",
       "      <td>Laboratory unit</td>\n",
       "    </tr>\n",
       "    <tr>\n",
       "      <th>71500</th>\n",
       "      <td>95000000</td>\n",
       "      <td>Land and Buildings and Structures and Thorough...</td>\n",
       "      <td>95140000</td>\n",
       "      <td>Prefabricated buildings and structures</td>\n",
       "      <td>95141900</td>\n",
       "      <td>Prefabricated medical buildings and structures</td>\n",
       "      <td>95141903</td>\n",
       "      <td>Dental unit</td>\n",
       "    </tr>\n",
       "    <tr>\n",
       "      <th>71501</th>\n",
       "      <td>95000000</td>\n",
       "      <td>Land and Buildings and Structures and Thorough...</td>\n",
       "      <td>95140000</td>\n",
       "      <td>Prefabricated buildings and structures</td>\n",
       "      <td>95141900</td>\n",
       "      <td>Prefabricated medical buildings and structures</td>\n",
       "      <td>95141904</td>\n",
       "      <td>Surgical units</td>\n",
       "    </tr>\n",
       "  </tbody>\n",
       "</table>\n",
       "</div>"
      ],
      "text/plain": [
       "        Segment                                       Segment Name    Family  \\\n",
       "71498  95000000  Land and Buildings and Structures and Thorough...  95140000   \n",
       "71499  95000000  Land and Buildings and Structures and Thorough...  95140000   \n",
       "71500  95000000  Land and Buildings and Structures and Thorough...  95140000   \n",
       "71501  95000000  Land and Buildings and Structures and Thorough...  95140000   \n",
       "\n",
       "                                  Family Name     Class  \\\n",
       "71498  Prefabricated buildings and structures  95141900   \n",
       "71499  Prefabricated buildings and structures  95141900   \n",
       "71500  Prefabricated buildings and structures  95141900   \n",
       "71501  Prefabricated buildings and structures  95141900   \n",
       "\n",
       "                                           Class Name  Commodity  \\\n",
       "71498  Prefabricated medical buildings and structures   95141901   \n",
       "71499  Prefabricated medical buildings and structures   95141902   \n",
       "71500  Prefabricated medical buildings and structures   95141903   \n",
       "71501  Prefabricated medical buildings and structures   95141904   \n",
       "\n",
       "        Commodity Name  \n",
       "71498     Medical unit  \n",
       "71499  Laboratory unit  \n",
       "71500      Dental unit  \n",
       "71501   Surgical units  "
      ]
     },
     "execution_count": 11,
     "metadata": {},
     "output_type": "execute_result"
    }
   ],
   "source": [
    "df.tail(4)"
   ]
  },
  {
   "cell_type": "code",
   "execution_count": null,
   "metadata": {
    "collapsed": true
   },
   "outputs": [],
   "source": []
  }
 ],
 "metadata": {
  "anaconda-cloud": {},
  "kernelspec": {
   "display_name": "Python 3.5.4 64-bit ('Py35': conda)",
   "language": "python",
   "name": "python35464bitpy35conda2c5509fb7fc34d9ebcde012b5c50b864"
  },
  "language_info": {
   "codemirror_mode": {
    "name": "ipython",
    "version": 3
   },
   "file_extension": ".py",
   "mimetype": "text/x-python",
   "name": "python",
   "nbconvert_exporter": "python",
   "pygments_lexer": "ipython3",
   "version": "3.5.4"
  }
 },
 "nbformat": 4,
 "nbformat_minor": 1
}
